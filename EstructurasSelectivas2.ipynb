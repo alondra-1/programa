{
  "nbformat": 4,
  "nbformat_minor": 0,
  "metadata": {
    "colab": {
      "provenance": [],
      "authorship_tag": "ABX9TyMZVyZ4a9dXnXFRssP4POjl",
      "include_colab_link": true
    },
    "kernelspec": {
      "name": "python3",
      "display_name": "Python 3"
    },
    "language_info": {
      "name": "python"
    }
  },
  "cells": [
    {
      "cell_type": "markdown",
      "metadata": {
        "id": "view-in-github",
        "colab_type": "text"
      },
      "source": [
        "<a href=\"https://colab.research.google.com/github/alondra-1/programa/blob/main/EstructurasSelectivas2.ipynb\" target=\"_parent\"><img src=\"https://colab.research.google.com/assets/colab-badge.svg\" alt=\"Open In Colab\"/></a>"
      ]
    },
    {
      "cell_type": "code",
      "execution_count": null,
      "metadata": {
        "id": "Q-uusEa8102Y"
      },
      "outputs": [],
      "source": []
    },
    {
      "cell_type": "markdown",
      "source": [
        "##Estructuras selectivas\n",
        "\n",
        "las estructuras selectivas tambien conocidas como lógicas selectuvas\n",
        "\n",
        "#señalan un cambio alternativo a seguir\n",
        "- Simples\n",
        "- Dobles\n",
        "- Triple\n",
        "\n",
        "#Estructura simple\n",
        "sí <condición>entonces..fin si\n"
      ],
      "metadata": {
        "id": "Fs97cYY-11wn"
      }
    },
    {
      "cell_type": "code",
      "source": [
        "print(\"Ejemplo de cindicion simple\")\n",
        "print(\"Ingrese un número:\")\n",
        "x=int(input())\n",
        "if x<100:\n",
        "  print(\"El numero es menor a 100\")"
      ],
      "metadata": {
        "colab": {
          "base_uri": "https://localhost:8080/"
        },
        "id": "Nfn4v9QD2rFO",
        "outputId": "18af5e9b-2ecb-4cf8-a08b-3f982b2d0b08"
      },
      "execution_count": 2,
      "outputs": [
        {
          "output_type": "stream",
          "name": "stdout",
          "text": [
            "Ejemplo de cindicion simple\n",
            "Ingrese un número:\n",
            "56\n",
            "El numero es menor a 100\n"
          ]
        }
      ]
    },
    {
      "cell_type": "markdown",
      "source": [
        "\n",
        "#Estructura selectiva doble\n",
        "sí <condición> entonces\n",
        "  <acciones tipo 1>\n",
        "si no\n",
        "<acciones tipo 2>\n",
        "fin si"
      ],
      "metadata": {
        "id": "0YZgwLmG3l0s"
      }
    },
    {
      "cell_type": "code",
      "source": [
        "print(\"Ejemplo de condicional doble\")\n",
        "print(\"Ingrese 2 numeros\")\n",
        "x=int(input(\"primer número: \"))\n",
        "y=int(input(\"segundo número\"))\n",
        "if x>y:\n",
        "  print(\"El numero es menor:\",y)\n",
        "else:\n",
        "    print(\"el menor es:\", x)"
      ],
      "metadata": {
        "colab": {
          "base_uri": "https://localhost:8080/"
        },
        "id": "MjiuNj-64Mkk",
        "outputId": "f6e8b65d-71cb-4b38-ca15-c5cd6df8d627"
      },
      "execution_count": 4,
      "outputs": [
        {
          "output_type": "stream",
          "name": "stdout",
          "text": [
            "Ejemplo de condicional doble\n",
            "Ingrese 2 numeros\n",
            "primer número: 4\n",
            "segundo número23\n",
            "el menor es: 4\n"
          ]
        }
      ]
    },
    {
      "cell_type": "markdown",
      "source": [
        "#Estructura selectiva multiple\n",
        "\n",
        "sí <selector> igual\n",
        "<valor1>: <coperacion 1>\n",
        "<valor2>: <coperacion 2>\n",
        "...\n",
        "...\n",
        "[<En otro caso>:<operacion n+1>]\n",
        "fin selector\n",
        "\n"
      ],
      "metadata": {
        "id": "ScS_ZSEi5WWk"
      }
    },
    {
      "cell_type": "code",
      "source": [
        "print(\"Ejemplo de condicional Múltiple\")\n",
        "\n",
        "swicher ={\n",
        "  1:\"Enero\",\n",
        "  2:\"Febrero\",\n",
        "  3:\"Marzo\",\n",
        "  4: \"Abril\",\n",
        "  5: \"Mayo\",\n",
        "  6: \"Junio\",\n",
        "  7: \"Julio\",\n",
        "  8: \"Agosto\",\n",
        "  9: \"Septiembre\",\n",
        " 10: \"Octubre\",\n",
        " 11: \"Noviembre\",\n",
        " 12: \"Diciembre\",\n",
        "}\n",
        "argument = int(input(\"ingrese un número de mes a mostrar: \"))\n",
        "nombreMes = swicher.get(argument, \"Mes invalido\")\n",
        "print(nombreMes)\n",
        "input(\"Presione una tecla para salir\")"
      ],
      "metadata": {
        "colab": {
          "base_uri": "https://localhost:8080/",
          "height": 105
        },
        "id": "uL_eVACX6W4r",
        "outputId": "c0ad9d8e-6337-4247-b21b-9d4e5af55ed5"
      },
      "execution_count": 6,
      "outputs": [
        {
          "name": "stdout",
          "output_type": "stream",
          "text": [
            "Ejemplo de condicional Múltiple\n",
            "ingrese un número de mes a mostrar: 9\n",
            "Septiembre\n",
            "Presione una tecla para salir j\n"
          ]
        },
        {
          "output_type": "execute_result",
          "data": {
            "text/plain": [
              "' j'"
            ],
            "application/vnd.google.colaboratory.intrinsic+json": {
              "type": "string"
            }
          },
          "metadata": {},
          "execution_count": 6
        }
      ]
    },
    {
      "cell_type": "code",
      "source": [
        "from sys import audit\n",
        "print(\"----Sueldo y Aumento---\")\n",
        "\n",
        "print(\"Dame el sueldo del trabajador: \")\n",
        "s=int(input())\n",
        "\n",
        "if s<10000:\n",
        " au=s* .15\n",
        "sf=s+au\n",
        "print(\"El aumento es de :\" ,au)\n",
        "print(\"El sueldo final es de: \",sf)\n",
        "print(\"Recibio el aumento\")\n"
      ],
      "metadata": {
        "colab": {
          "base_uri": "https://localhost:8080/"
        },
        "id": "IYK2JPGt9iYZ",
        "outputId": "6654d7c0-bf1c-4440-c44f-598e7799842b"
      },
      "execution_count": 12,
      "outputs": [
        {
          "output_type": "stream",
          "name": "stdout",
          "text": [
            "----Sueldo y Aumento---\n",
            "Dame el sueldo del trabajador: \n",
            "2000\n",
            "El aumento es de : 300.0\n",
            "El sueldo final es de:  2300.0\n",
            "Recibio el aumento\n"
          ]
        }
      ]
    },
    {
      "cell_type": "markdown",
      "source": [
        "##Escribir un programa que determine si un año leido desde el teclado es o no bisiesto"
      ],
      "metadata": {
        "id": "6svjwi8zBCU_"
      }
    },
    {
      "cell_type": "code",
      "source": [
        "print(\"Verificar Año bisiesto\")\n",
        "a=int(input(\"Ingresa el año a verificar\"))\n",
        "if (a%400==0)or(a%4==0)and(a%100!=0):\n",
        "  print(\"El año SÍ es BISIESTO\")\n",
        "else:\n",
        "  print(\"El año NO es BISIESTO\")\n"
      ],
      "metadata": {
        "colab": {
          "base_uri": "https://localhost:8080/"
        },
        "id": "J2jU_EnCBfU9",
        "outputId": "bda327e9-7593-41aa-c5bd-84af5e6c61fb"
      },
      "execution_count": 16,
      "outputs": [
        {
          "output_type": "stream",
          "name": "stdout",
          "text": [
            "Verificar Año bisiesto\n",
            "Ingresa el año a verificar2444\n",
            "El año SÍ es BISIESTO\n"
          ]
        }
      ]
    }
  ]
}