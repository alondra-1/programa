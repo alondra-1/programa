{
  "nbformat": 4,
  "nbformat_minor": 0,
  "metadata": {
    "colab": {
      "provenance": [],
      "authorship_tag": "ABX9TyM9IOeUZC4dVJEOqGVvD5NB",
      "include_colab_link": true
    },
    "kernelspec": {
      "name": "python3",
      "display_name": "Python 3"
    },
    "language_info": {
      "name": "python"
    }
  },
  "cells": [
    {
      "cell_type": "markdown",
      "metadata": {
        "id": "view-in-github",
        "colab_type": "text"
      },
      "source": [
        "<a href=\"https://colab.research.google.com/github/alondra-1/programa/blob/main/Trabajito2.ipynb\" target=\"_parent\"><img src=\"https://colab.research.google.com/assets/colab-badge.svg\" alt=\"Open In Colab\"/></a>"
      ]
    },
    {
      "cell_type": "code",
      "source": [
        "##Elaborar un programa que permite ingresar el numero de partidos ganados,perdidos y empatados del club de futbol \"real bañil\" en el torneo de apertura 2024, se debe mostrar el puntaje finla teniendo en cuenta q"
      ],
      "metadata": {
        "id": "pPzJZKZxY4v7"
      },
      "execution_count": 7,
      "outputs": []
    },
    {
      "cell_type": "code",
      "source": [
        "print(\"---------------------------------------------------\")\n",
        "print(\"-----puntaje final del club de futbol real bañil---\")\n",
        "print(\"---------------------------------------------------\")\n",
        "\n",
        "#Entrada\n",
        "print(\"ingrese el total de patidos ganados\")\n",
        "ganados = int (input())\n",
        "print(\"ingrese el total de patidos perdidos\")\n",
        "perdidos = int (input())\n",
        "print(\"ingrese el total de patidos empatados\")\n",
        "empatados = int (input())\n",
        "\n",
        "ppg=ganados*3\n",
        "ppp=perdidos*0\n",
        "ppe=empatados*1\n",
        "PF=ppg+ppp+ppe\n",
        "\n",
        "#Datos de salida\n",
        "print(\"el puntaje final del club real bañil es:\",PF)\n",
        "\n"
      ],
      "metadata": {
        "colab": {
          "base_uri": "https://localhost:8080/"
        },
        "id": "zbU-zKfpZJU8",
        "outputId": "655c260e-1ba9-4f2f-857e-499ca3524fda"
      },
      "execution_count": 6,
      "outputs": [
        {
          "output_type": "stream",
          "name": "stdout",
          "text": [
            "---------------------------------------------------\n",
            "-----puntaje final del club de futbol real bañil---\n",
            "---------------------------------------------------\n",
            "ingrese el total de patidos ganados\n",
            "4\n",
            "ingrese el total de patidos perdidos\n",
            "6\n",
            "ingrese el total de patidos empatados\n",
            "3\n",
            "el puntaje final del club real bañil es: 15\n"
          ]
        }
      ]
    },
    {
      "cell_type": "markdown",
      "source": [
        "Escribir un programa que dado como datos el radio y la altura de un cilindro,calcular e imprimir el area y volumen del mismo."
      ],
      "metadata": {
        "id": "HT8xglmXcFK8"
      }
    },
    {
      "cell_type": "code",
      "source": [
        "print(\"---------------------------------------------------\")\n",
        "print(\"---------Área y volumen de un cilindro-------------\")\n",
        "print(\"---------------------------------------------------\")\n",
        "\n",
        "PI=3.1416\n",
        "\n",
        "print(\"ingrse el radio y el alto del cilindro:\")\n",
        "radio=float(input())\n",
        "alto=float(input())\n",
        "volumen=PI*radio**2*alto\n",
        "ar=2*PI*radio*(radio + alto)\n",
        "print(\"---------------------------------------------------\")\n",
        "print(\"El área del cilindro es:\",ar)\n",
        "print(\"el volumen del cilindro es:\",volumen)\n"
      ],
      "metadata": {
        "colab": {
          "base_uri": "https://localhost:8080/"
        },
        "id": "KM24oHXrdE-r",
        "outputId": "3e39e6a1-9b66-42fc-f72c-b2650de548d9"
      },
      "execution_count": 9,
      "outputs": [
        {
          "output_type": "stream",
          "name": "stdout",
          "text": [
            "---------------------------------------------------\n",
            "---------Área y volumen de un cilindro-------------\n",
            "---------------------------------------------------\n",
            "ingrse el radio y el alto del cilindro:\n",
            "1815\n",
            "156\n",
            "---------------------------------------------------\n",
            "El área del cilindro es: 22477299.768\n",
            "el volumen del cilindro es: 1614465412.56\n"
          ]
        }
      ]
    },
    {
      "cell_type": "markdown",
      "source": [
        "Escribir un programa que calcule el perímetro de un triángulo equilátero, teniendo como dato de entrda la altura."
      ],
      "metadata": {
        "id": "S8z7WsfHi7eg"
      }
    },
    {
      "cell_type": "code",
      "source": [
        "print(\"----------------------------------------------------------\")\n",
        "print(\"---------perímetro de un triángulo equilátero-------------\")\n",
        "print(\"----------------------------------------------------------\")\n",
        "\n",
        "#Datos de entrada\n",
        "print(\"Ingrese la altura:\")\n",
        "altura= int (input(\"\"))\n",
        "\n",
        "perimetro= (2) * (altura) * (3**0.5)\n",
        "\n",
        "#Datos de salida\n",
        "print(\"eEl perimetro del triangulo es:\",perimetro)\n",
        "\n",
        "\n",
        "\n",
        "\n"
      ],
      "metadata": {
        "colab": {
          "base_uri": "https://localhost:8080/"
        },
        "id": "GfmmQd9RjVWw",
        "outputId": "bd1461da-9cf9-45a0-c79f-6581643af33d"
      },
      "execution_count": 10,
      "outputs": [
        {
          "output_type": "stream",
          "name": "stdout",
          "text": [
            "----------------------------------------------------------\n",
            "---------perímetro de un triángulo equilátero-------------\n",
            "----------------------------------------------------------\n",
            "Ingrese la altura:\n",
            "4\n",
            "eEl perimetro del triangulo es: 13.856406460551018\n"
          ]
        }
      ]
    }
  ]
}